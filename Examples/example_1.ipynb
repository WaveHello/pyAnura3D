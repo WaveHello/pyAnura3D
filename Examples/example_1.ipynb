{
 "cells": [
  {
   "cell_type": "code",
   "execution_count": null,
   "metadata": {},
   "outputs": [],
   "source": [
    "import sys\n",
    "import os"
   ]
  },
  {
   "cell_type": "code",
   "execution_count": null,
   "metadata": {},
   "outputs": [],
   "source": [
    "sys.path.append(\"../../pyAnura3D\")"
   ]
  },
  {
   "cell_type": "code",
   "execution_count": null,
   "metadata": {},
   "outputs": [],
   "source": [
    "# Local loads\n",
    "\n",
    "# This class represent the Folder that contains the pffp data\n",
    "from lib.data_classes.modelClass import AnuraModel"
   ]
  },
  {
   "cell_type": "code",
   "execution_count": null,
   "metadata": {},
   "outputs": [],
   "source": [
    "exe_name = \"Anura3D_2023.exe\"\n",
    "old_exe_path = os.path.join(r\"C:\\Geotech_Research\\OS_Sub_Compare\\SRMC\\triaixial\\FEM\\Old_OS_Anura3D_Model_Tri\",\n",
    "                         exe_name)\n",
    "\n",
    "SR_num = {\n",
    "        \"name\": \"Triaxial_NAMC_OS_v1_3_FEM\",\n",
    "        \"folder\": r\"C:\\Geotech_Research\\OS_Sub_Compare\\SRMC\\triaixial\\FEM\\Triaxial_NAMC_OS_v1_4_FEM.A3D\",\n",
    "        \"exe_path\": old_exe_path\n",
    "}\n",
    "\n",
    "model_dicts = [SR_num]"
   ]
  },
  {
   "cell_type": "code",
   "execution_count": null,
   "metadata": {},
   "outputs": [],
   "source": [
    "models = []\n",
    "for d in model_dicts:\n",
    "    model = AnuraModel(d[\"exe_path\"], d[\"folder\"], d[\"name\"], benchmark=True, benchmark_name=\"triaxial_model\")\n",
    "    models.append(model)"
   ]
  },
  {
   "cell_type": "code",
   "execution_count": null,
   "metadata": {},
   "outputs": [],
   "source": [
    "model = models[0]\n",
    "cps_file = model.setup.get_CPS_file(which_file=1)[0]\n",
    "cps_file.load_data()\n",
    "model.setup.delete_folder_files()"
   ]
  },
  {
   "cell_type": "code",
   "execution_count": null,
   "metadata": {},
   "outputs": [],
   "source": [
    "# Update the velocity flag to be able to caputure the different values\n",
    "vel_scaling = 0.1\n",
    "\n",
    "vel_dict = {\"$$PRESCRIBED_VELOCITY\":f\"linear  {vel_scaling}  {vel_scaling}\"} "
   ]
  },
  {
   "cell_type": "code",
   "execution_count": null,
   "metadata": {},
   "outputs": [],
   "source": [
    "gom = model.setup.get_GOM_file()\n",
    "cps_file.modify_flags(vel_dict)"
   ]
  },
  {
   "cell_type": "code",
   "execution_count": null,
   "metadata": {},
   "outputs": [],
   "source": [
    "cps_file.load_data()\n",
    "cps_file.print_data()"
   ]
  },
  {
   "cell_type": "code",
   "execution_count": null,
   "metadata": {},
   "outputs": [],
   "source": [
    "gom.update_ESM_material_props(\"non_assoc_mohr_coulomb\", props_dict={\"shear_mod\":6100,\n",
    "                                                      \"poisson\": 0.2,\n",
    "                                                      \"Mtc\": 1.31,\n",
    "                                                      \"Nova_coup\": 0.3,\n",
    "                                                      \"Dmin\": -0.58,\n",
    "                                                      \"h\":20,\n",
    "                                                      \"alpha_G\":0.04,\n",
    "                                                      \"alpha_K\":0.1,\n",
    "                                                      \"alpha_D\":0.04,\n",
    "                                                      \"Dpart\":0.32,\n",
    "                                                      \"Gs\":2.68,\n",
    "                                                      \"RefRate\":2.5e-5,\n",
    "                                                      \"SwitchSmooth\":0,\n",
    "                                                      \"N_s\":0,\n",
    "                                                      \"switch_orig\":0,\n",
    "                                                      \"FTOL\":1e-8, # Doesn't do anything for old model\n",
    "                                                      \"num_iters\":1000 # Doesn't do anything for old model\n",
    "                                                    },\n",
    "                                                    new_esm_name = None\n",
    "                            )"
   ]
  },
  {
   "cell_type": "code",
   "execution_count": null,
   "metadata": {},
   "outputs": [],
   "source": [
    "cps_file.get_flag_value(\"$$OUTPUT_MATERIAL_POINTS\")"
   ]
  },
  {
   "cell_type": "code",
   "execution_count": null,
   "metadata": {},
   "outputs": [],
   "source": [
    "model.setup.generate_batch_file()\n",
    "model.run_benchmark(print_output=False)\n",
    "model.results.load_out_file()\n"
   ]
  },
  {
   "cell_type": "code",
   "execution_count": null,
   "metadata": {},
   "outputs": [],
   "source": [
    "model.results.out_file.print_data()"
   ]
  },
  {
   "cell_type": "code",
   "execution_count": null,
   "metadata": {},
   "outputs": [],
   "source": [
    "model.results.load_par_files(load_all_data = True, flag_3D = True)\n",
    "\n",
    "par = model.results.par_files[0]\n",
    "# print(test.results.par_files[0])\n",
    "# test.results.par_files[0].data"
   ]
  },
  {
   "cell_type": "code",
   "execution_count": null,
   "metadata": {},
   "outputs": [],
   "source": [
    "par.store_output_stress()\n",
    "par.store_output_strains()"
   ]
  },
  {
   "cell_type": "code",
   "execution_count": null,
   "metadata": {},
   "outputs": [],
   "source": [
    "par.quick_quad_plot()"
   ]
  },
  {
   "cell_type": "code",
   "execution_count": null,
   "metadata": {},
   "outputs": [],
   "source": []
  }
 ],
 "metadata": {
  "kernelspec": {
   "display_name": "PFFP_Analysis",
   "language": "python",
   "name": "python3"
  },
  "language_info": {
   "codemirror_mode": {
    "name": "ipython",
    "version": 3
   },
   "file_extension": ".py",
   "mimetype": "text/x-python",
   "name": "python",
   "nbconvert_exporter": "python",
   "pygments_lexer": "ipython3",
   "version": "3.12.5"
  }
 },
 "nbformat": 4,
 "nbformat_minor": 2
}

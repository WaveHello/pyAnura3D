{
 "cells": [
  {
   "cell_type": "code",
   "execution_count": null,
   "metadata": {},
   "outputs": [],
   "source": [
    "import sys\n",
    "import os"
   ]
  },
  {
   "cell_type": "code",
   "execution_count": null,
   "metadata": {},
   "outputs": [],
   "source": [
    "sys.path.append(\"../../pyAnura3D\")"
   ]
  },
  {
   "cell_type": "code",
   "execution_count": null,
   "metadata": {},
   "outputs": [],
   "source": [
    "# Local loads\n",
    "\n",
    "# This class represent the Folder that contains the pffp data\n",
    "from lib.data_classes.modelClass import AnuraModel"
   ]
  },
  {
   "cell_type": "code",
   "execution_count": null,
   "metadata": {},
   "outputs": [],
   "source": [
    "exe_name = \"Anura3D_2023.exe\"\n",
    "old_exe_path = os.path.join(r\"C:\\Geotech_Research\\OS_Sub_Compare\\SRMC\\triaixial\\FEM\\Old_OS_Anura3D_Model_Tri\",\n",
    "                         exe_name)\n",
    "\n",
    "SR_num = {\n",
    "        \"name\": \"Triaxial_NAMC_OS_v1_3_FEM\",\n",
    "        \"folder\": r\"C:\\Geotech_Research\\OS_Sub_Compare\\SRMC\\triaixial\\FEM\\Triaxial_NAMC_OS_v1_4_FEM.A3D\",\n",
    "        \"exe_path\": old_exe_path\n",
    "}\n",
    "\n",
    "model_dicts = [SR_num]"
   ]
  },
  {
   "cell_type": "code",
   "execution_count": null,
   "metadata": {},
   "outputs": [],
   "source": [
    "models = []\n",
    "for d in model_dicts:\n",
    "    model = AnuraModel(d[\"exe_path\"], d[\"folder\"], d[\"name\"], benchmark=True, benchmark_name=\"triaxial_model\")\n",
    "    models.append(model)"
   ]
  },
  {
   "cell_type": "code",
   "execution_count": null,
   "metadata": {},
   "outputs": [],
   "source": [
    "model = models[0]\n",
    "model.setup.get_CPS_file(which_file=\"first\")\n",
    "# model.setup.delete_folder_files()"
   ]
  },
  {
   "cell_type": "code",
   "execution_count": null,
   "metadata": {},
   "outputs": [],
   "source": [
    "model.setup.generate_batch_file()\n",
    "# model.run_benchmark(print_output=False)\n",
    "model.results.load_out_file()\n"
   ]
  },
  {
   "cell_type": "code",
   "execution_count": null,
   "metadata": {},
   "outputs": [],
   "source": [
    "# model.results.out_file.print_data()"
   ]
  },
  {
   "cell_type": "code",
   "execution_count": null,
   "metadata": {},
   "outputs": [],
   "source": [
    "# test.results.load_par_files(load_all_data = True)\n",
    "# print(test.results.par_files[0])\n",
    "# test.results.par_files[0].data"
   ]
  },
  {
   "cell_type": "code",
   "execution_count": null,
   "metadata": {},
   "outputs": [],
   "source": []
  }
 ],
 "metadata": {
  "kernelspec": {
   "display_name": "PFFP_Analysis",
   "language": "python",
   "name": "python3"
  },
  "language_info": {
   "codemirror_mode": {
    "name": "ipython",
    "version": 3
   },
   "file_extension": ".py",
   "mimetype": "text/x-python",
   "name": "python",
   "nbconvert_exporter": "python",
   "pygments_lexer": "ipython3",
   "version": "3.12.5"
  }
 },
 "nbformat": 4,
 "nbformat_minor": 2
}
